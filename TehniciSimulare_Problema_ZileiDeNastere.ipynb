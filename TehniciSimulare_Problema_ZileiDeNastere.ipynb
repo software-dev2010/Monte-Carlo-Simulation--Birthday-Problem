{
  "nbformat": 4,
  "nbformat_minor": 0,
  "metadata": {
    "colab": {
      "provenance": [],
      "authorship_tag": "ABX9TyP0WsHlvr6JUWtY8sVox0J3",
      "include_colab_link": true
    },
    "kernelspec": {
      "name": "python3",
      "display_name": "Python 3"
    },
    "language_info": {
      "name": "python"
    }
  },
  "cells": [
    {
      "cell_type": "markdown",
      "metadata": {
        "id": "view-in-github",
        "colab_type": "text"
      },
      "source": [
        "<a href=\"https://colab.research.google.com/github/software-dev2010/Monte-Carlo-Simulation--Birthday-Problem/blob/main/TehniciSimulare_Problema_ZileiDeNastere.ipynb\" target=\"_parent\"><img src=\"https://colab.research.google.com/assets/colab-badge.svg\" alt=\"Open In Colab\"/></a>"
      ]
    },
    {
      "cell_type": "code",
      "source": [
        "from random import randint\n",
        "import matplotlib.pyplot as plt\n",
        "import seaborn as sns\n",
        "\n",
        "MIN_NR_PERSOANE = 2\n",
        "MAX_NR_PERSOANE = 60\n",
        " \n",
        "NR_PERSOANE = 23\n",
        "NR_ZILE_NASTERE_POSIBILE = 365\n",
        "NR_INCERCARI = 10000\n",
        " \n",
        " \n",
        "def genereaza_zi_nastere_aleatorie():\n",
        "    zi_nastere_aleatorie = randint(1, NR_ZILE_NASTERE_POSIBILE)\n",
        "    return zi_nastere_aleatorie\n",
        " \n",
        " \n",
        "def genereaza_k_zile_nastere(k):\n",
        "    zile_nastere_aleatorii = [genereaza_zi_nastere_aleatorie() for _ in range(k)]\n",
        "    return zile_nastere_aleatorii\n",
        " \n",
        " \n",
        "def aloc(zile_de_nastere):\n",
        "    zile_nastere_unice = set(zile_de_nastere)\n",
        " \n",
        "    nr_zile_de_nastere = len(zile_de_nastere)\n",
        "    nr_zile_nastere_unice = len(zile_nastere_unice)\n",
        "    exista_coincidenta = (nr_zile_de_nastere != nr_zile_nastere_unice)\n",
        " \n",
        "    return  exista_coincidenta\n",
        " \n",
        " \n",
        "def estimare_prob_aloc(k):\n",
        "    nr_aloc = 0\n",
        "    for _ in range(NR_INCERCARI):\n",
        "        zile_nastere = genereaza_k_zile_nastere(k)\n",
        "        exista_coincidenta = aloc(zile_nastere)\n",
        "        if exista_coincidenta:\n",
        "            nr_aloc += 1\n",
        " \n",
        "    prob_aloc = nr_aloc / NR_INCERCARI\n",
        "    return prob_aloc\n",
        "\n",
        "\n",
        "def estimare_prob_aloc_serie(ks):\n",
        "    k_probabilitati = []\n",
        " \n",
        "    for k in ks:\n",
        "        prob_aloc = estimare_prob_aloc(k)\n",
        "        k_probabilitati.append(prob_aloc)\n",
        "         \n",
        "    return k_probabilitati\n",
        " \n",
        " \n",
        "ks = range(MIN_NR_PERSOANE, MAX_NR_PERSOANE + 1)\n",
        "k_probabilitati = estimare_prob_aloc_serie(ks)\n",
        " \n",
        " \n",
        "fig, ax = plt.subplots(figsize=(10, 10), dpi=49)\n",
        "ax.set_facecolor('#9467bd')\n",
        "ax.xaxis.set_tick_params(width=5, color='#2d3233')\n",
        "ax.yaxis.set_tick_params(width=5, color='#2d3233')\n",
        " \n",
        "sns.lineplot(x=ks, y=k_probabilitati, color='#2d3233')\n",
        " \n",
        "plt.xticks(fontsize=15, color='#2d3233')\n",
        "y_range = [0, 0.1, 0.2, 0.3, 0.4, 0.5, 0.6, 0.7, 0.8, 0.9, 1]\n",
        "plt.yticks(y_range, fontsize=15, color='#2d3233')\n",
        "plt.grid()\n",
        "plt.xlim([0, 60])\n",
        "plt.ylim([0, 1])\n",
        "plt.xlabel('Numarul de persoane', fontsize=30, color='#2d3233')\n",
        "plt.ylabel('P(Cel putin o coincidenta)', fontsize=30, color='#2d3233')\n",
        " \n",
        "plt.show()    \n",
        " \n",
        "\n",
        "\n",
        "\n"
      ],
      "metadata": {
        "colab": {
          "base_uri": "https://localhost:8080/",
          "height": 437
        },
        "id": "uUBTRj0oBR9v",
        "outputId": "e754426f-ef32-4cd6-b675-50f7941d92c4"
      },
      "execution_count": 25,
      "outputs": [
        {
          "output_type": "display_data",
          "data": {
            "text/plain": [
              "<Figure size 490x490 with 1 Axes>"
            ],
            "image/png": "[encoded data removed]"
          },
          "metadata": {
            "needs_background": "light"
          }
        }
      ]
    },
    {
      "cell_type": "code",
      "source": [
        "ks = range(MIN_NR_PERSOANE, MAX_NR_PERSOANE + 1)\n",
        "ks"
      ],
      "metadata": {
        "colab": {
          "base_uri": "https://localhost:8080/"
        },
        "id": "3Vezcq2CcBf_",
        "outputId": "a1eb5e3a-94b2-4bff-ea5f-23f328c13999"
      },
      "execution_count": 15,
      "outputs": [
        {
          "output_type": "execute_result",
          "data": {
            "text/plain": [
              "range(2, 61)"
            ]
          },
          "metadata": {},
          "execution_count": 15
        }
      ]
    },
    {
      "cell_type": "code",
      "source": [
        "# afisarea estimarilor sub forma unui tabel \n",
        "import pandas as pd\n",
        "\n",
        "data_table = pd.DataFrame({'k': ks, 'P(k)': k_probabilitati})\n",
        "print(data_table)\n"
      ],
      "metadata": {
        "colab": {
          "base_uri": "https://localhost:8080/"
        },
        "id": "yYMncwLcbr_m",
        "outputId": "716ad384-cd2d-41f5-d03c-c784e0c80838"
      },
      "execution_count": 23,
      "outputs": [
        {
          "output_type": "stream",
          "name": "stdout",
          "text": [
            "     k    P(k)\n",
            "0    2  0.0041\n",
            "1    3  0.0093\n",
            "2    4  0.0150\n",
            "3    5  0.0264\n",
            "4    6  0.0412\n",
            "5    7  0.0571\n",
            "6    8  0.0706\n",
            "7    9  0.0957\n",
            "8   10  0.1146\n",
            "9   11  0.1439\n",
            "10  12  0.1667\n",
            "11  13  0.1910\n",
            "12  14  0.2282\n",
            "13  15  0.2501\n",
            "14  16  0.2856\n",
            "15  17  0.3188\n",
            "16  18  0.3427\n",
            "17  19  0.3848\n",
            "18  20  0.4131\n",
            "19  21  0.4469\n",
            "20  22  0.4777\n",
            "21  23  0.5103\n",
            "22  24  0.5357\n",
            "23  25  0.5607\n",
            "24  26  0.5990\n",
            "25  27  0.6241\n",
            "26  28  0.6594\n",
            "27  29  0.6830\n",
            "28  30  0.6966\n",
            "29  31  0.7302\n",
            "30  32  0.7570\n",
            "31  33  0.7805\n",
            "32  34  0.7954\n",
            "33  35  0.8164\n",
            "34  36  0.8301\n",
            "35  37  0.8514\n",
            "36  38  0.8643\n",
            "37  39  0.8765\n",
            "38  40  0.8923\n",
            "39  41  0.9065\n",
            "40  42  0.9147\n",
            "41  43  0.9212\n",
            "42  44  0.9321\n",
            "43  45  0.9411\n",
            "44  46  0.9496\n",
            "45  47  0.9566\n",
            "46  48  0.9568\n",
            "47  49  0.9633\n",
            "48  50  0.9676\n",
            "49  51  0.9744\n",
            "50  52  0.9775\n",
            "51  53  0.9809\n",
            "52  54  0.9858\n",
            "53  55  0.9860\n",
            "54  56  0.9872\n",
            "55  57  0.9910\n",
            "56  58  0.9913\n",
            "57  59  0.9930\n",
            "58  60  0.9934\n"
          ]
        }
      ]
    }
  ]
}